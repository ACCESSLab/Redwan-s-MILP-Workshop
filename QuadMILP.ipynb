{
 "cells": [
  {
   "cell_type": "code",
   "execution_count": 1,
   "metadata": {
    "collapsed": true,
    "pycharm": {
     "name": "#%%\n"
    }
   },
   "outputs": [
    {
     "name": "stdout",
     "output_type": "stream",
     "text": [
      "Using license file /home/redwan/gurobi.lic\n",
      "Academic license - for non-commercial use only - expires 2023-06-30\n",
      "Parameter OutputFlag unchanged\n",
      "   Value: 1  Min: 0  Max: 1  Default: 1\n"
     ]
    }
   ],
   "source": [
    "from gurobipy import *\n",
    "import numpy as np\n",
    "import logging\n",
    "logging.basicConfig(level=logging.ERROR)\n",
    "setParam('OutputFlag', 1)"
   ]
  },
  {
   "cell_type": "markdown",
   "metadata": {
    "pycharm": {
     "name": "#%% md\n"
    }
   },
   "source": [
    "We will be building a centralized multi-quad control model based on [this](https://ieeexplore.ieee.org/document/1023918) paper. Given $N$ number of quads, we impose constraints over maximum and minimum velocities  $V_\\max$ and $V_\\min$, maximum and minimum forces $F_\\max$, $F_\\min$,  respectively. Next,\n",
    "$i^{th}$ robot state is represented by $\\{x_t^i, y_t^i, {Vx}_t^i, {Vy}_t^i, {Fx}_t^i, {Fy}_t^i \\}$. We also need  decision variables $b_t^i$ and a discrete mission time $T_t$."
   ]
  },
  {
   "cell_type": "code",
   "execution_count": 2,
   "metadata": {
    "pycharm": {
     "name": "#%%\n"
    }
   },
   "outputs": [],
   "source": [
    "N = 2\n",
    "T_MAX = 50\n",
    "V_MAX = 2.5 * 0.225  # m/s\n",
    "F_MAX = 2.5 * 0.294  # N\n",
    "V_MIN = -V_MAX\n",
    "F_MIN = - F_MAX"
   ]
  },
  {
   "cell_type": "code",
   "execution_count": 3,
   "metadata": {
    "pycharm": {
     "name": "#%%\n"
    }
   },
   "outputs": [],
   "source": [
    "model = Model(\"MultiQuads\")\n",
    "x = [(i, t) for t in range(T_MAX) for i in range(N)]\n",
    "get_name = lambda x: [\"{}_{}_{}\".format(x, i, t) for t in range(T_MAX) for i in range(N)]\n",
    "\n",
    "x_i_t = model.addVars(x, vtype=GRB.CONTINUOUS, lb=-GRB.INFINITY, ub=GRB.INFINITY, name=get_name(\"x\"))\n",
    "y_i_t = model.addVars(x, vtype=GRB.CONTINUOUS, lb=-GRB.INFINITY, ub=GRB.INFINITY, name=get_name(\"y\"))\n",
    "Vx_i_t = model.addVars(x, vtype=GRB.CONTINUOUS, lb=V_MIN, ub=V_MAX, name=get_name(\"Vx\"))\n",
    "Vy_i_t = model.addVars(x, vtype=GRB.CONTINUOUS, lb=V_MIN, ub=V_MAX, name=get_name(\"Vy\"))\n",
    "Fx_i_t = model.addVars(x, vtype=GRB.CONTINUOUS, lb=F_MIN, ub=F_MAX, name=get_name(\"Fx\"))\n",
    "Fy_i_t = model.addVars(x, vtype=GRB.CONTINUOUS, lb=F_MIN, ub=F_MAX, name=get_name(\"Fy\"))\n",
    "Abs_Fx_i_t = model.addVars(x, vtype=GRB.CONTINUOUS, ub=F_MAX)\n",
    "Abs_Fy_i_t = model.addVars(x, vtype=GRB.CONTINUOUS, ub=F_MAX)\n",
    "\n",
    "b_i_t = model.addVars(x, vtype=GRB.BINARY, name=get_name(\"b\"))\n",
    "c = [t for t in range(T_MAX)]\n",
    "T_t = model.addVars(c, vtype=GRB.CONTINUOUS, ub=GRB.INFINITY, name=[\"t_%d\" % t for t in range(T_MAX)])"
   ]
  },
  {
   "cell_type": "markdown",
   "metadata": {
    "pycharm": {
     "name": "#%% md\n"
    }
   },
   "source": [
    "Let's introduce initial and goal states variables such that state $\\mathbf{s} = \\{x, y, vx, vy, fx, fy\\}$"
   ]
  },
  {
   "cell_type": "code",
   "execution_count": 4,
   "metadata": {
    "pycharm": {
     "name": "#%%\n"
    }
   },
   "outputs": [],
   "source": [
    "state_dim = [(i, t) for t in range(6) for i in range(N)]\n",
    "s_0 = model.addVars(state_dim, vtype=GRB.CONTINUOUS, ub=GRB.INFINITY, name=\"s0_i\")\n",
    "s_g = model.addVars(state_dim, vtype=GRB.CONTINUOUS, ub=GRB.INFINITY, name=\"sg_i\")"
   ]
  },
  {
   "cell_type": "markdown",
   "metadata": {
    "pycharm": {
     "name": "#%% md\n"
    }
   },
   "source": [
    "Our optimization goal is to minimize the following function\n",
    "$   \\min_{\\mathbf{x}, \\mathbf{u}, b, c} J = \\sum_{i=1}^N \\left(\\sum_{t=t_0}^{T}  T(t) b_{d_i}^i(t) + \\epsilon  \\sum_{t=t_0}^{T} \\left( \\mid f_{x^i(t)} \\mid + \\mid f_{y^i(t)} \\mid  \\right)  \\right)$"
   ]
  },
  {
   "cell_type": "code",
   "execution_count": 5,
   "metadata": {
    "pycharm": {
     "name": "#%%\n"
    }
   },
   "outputs": [],
   "source": [
    "epsilon = 0.01\n",
    "partA = quicksum(b_i_t[i, t] * T_t[t] for t in range(T_MAX) for i in range(N))\n",
    "partB = quicksum(Abs_Fx_i_t[i, t] + Abs_Fy_i_t[i, t] for t in range(T_MAX) for i in range(N))\n",
    "model.modelSense = GRB.MINIMIZE\n",
    "model.setObjective(partA + epsilon * partB)"
   ]
  },
  {
   "cell_type": "markdown",
   "metadata": {
    "pycharm": {
     "name": "#%% md\n"
    }
   },
   "source": [
    "add force constraints such that $f^i_{x} (k)\\sin(\\frac{2\\pi \\gamma}{\\Gamma}) + f^i_{y}(k)\\cos(\\frac{2\\pi \\gamma}{\\Gamma})\\leq F_{\\max}^i$ and velocity constraints such that $v^i_{x}(k)\\sin(\\frac{2\\pi \\gamma}{\\Gamma}) + v^i_{y}(k)\\cos(\\frac{2\\pi \\gamma}{\\Gamma})\\leq V_{\\max}^i$"
   ]
  },
  {
   "cell_type": "code",
   "execution_count": 6,
   "metadata": {
    "pycharm": {
     "name": "#%%\n"
    }
   },
   "outputs": [
    {
     "name": "stdout",
     "output_type": "stream",
     "text": [
      "Warning for adding constraints: zero or small (< 1e-13) coefficients, ignored\n"
     ]
    }
   ],
   "source": [
    "GAMMA = 10\n",
    "for gamma in range(1, GAMMA + 1):\n",
    "    for i in range(N):\n",
    "        for t in range(T_MAX - 1):\n",
    "            model.addConstr(\n",
    "                Fx_i_t[i, t] * np.sin(2 * np.pi * gamma / GAMMA) + Fy_i_t[i, t] * np.cos(2 * np.pi * gamma / GAMMA) <= F_MAX)\n",
    "            model.addConstr(\n",
    "                Vx_i_t[i, t] * np.sin(2 * np.pi * gamma / GAMMA) + Vy_i_t[i, t] * np.cos(2 * np.pi * gamma / GAMMA) <= V_MAX)"
   ]
  },
  {
   "cell_type": "markdown",
   "metadata": {
    "pycharm": {
     "name": "#%% md\n"
    }
   },
   "source": [
    "Add reachability constraints\n",
    "\\begin{aligned}\n",
    "    &\\forall i\\in [1, N], \\forall k \\in [t_0,T]  \\\\\n",
    "    & x^i(k)-x_g^i \\leq  \\epsilon + R( 1 - b_{d_i }^i(k)) \\\\\n",
    "    & x^i(k)-x_g^i \\geq -\\epsilon- R( 1 - b_{d_i }^i(k))\\\\\n",
    "    & y^i(k)-y_g^i\\leq \\epsilon+ R( 1 - b_{d_i }^i(k))\\\\\n",
    "    & y^i(k)-y_g^i\\geq -\\epsilon-  R( 1 - b_{d_i }^i(k))\n",
    "\\end{aligned}"
   ]
  },
  {
   "cell_type": "code",
   "execution_count": 7,
   "metadata": {
    "pycharm": {
     "name": "#%%\n"
    }
   },
   "outputs": [],
   "source": [
    "R = 1000000\n",
    "xi = 1e-6\n",
    "goal = [[10, 10], [0, 0]]\n",
    "for i in range(N):\n",
    "    model.addConstr(quicksum(b_i_t[i, t] for t in range(1, T_MAX)) == 1)\n",
    "    model.addConstr( x_i_t[i, T_MAX - 1] == s_g[i, 0])\n",
    "    model.addConstr( y_i_t[i, T_MAX - 1] == s_g[i, 1])\n",
    "    model.addConstr(Vx_i_t[i, T_MAX - 1] == s_g[i, 2])\n",
    "    model.addConstr(Vy_i_t[i, T_MAX - 1] == s_g[i, 3])\n",
    "    model.addConstr(Fx_i_t[i, T_MAX - 1] == s_g[i, 4])\n",
    "    model.addConstr(Fy_i_t[i, T_MAX - 1] == s_g[i, 5])\n",
    "\n",
    "    for t in range(0, T_MAX):\n",
    "        model.addConstr(x_i_t[i, t] - s_g[i, 0] <=  xi + R * (1 - b_i_t[i, t]))\n",
    "        model.addConstr(x_i_t[i, t] - s_g[i, 0] >= -xi - R * (1 - b_i_t[i, t]))\n",
    "        model.addConstr(y_i_t[i, t] - s_g[i, 1] <=  xi + R * (1 - b_i_t[i, t]))\n",
    "        model.addConstr(y_i_t[i, t] - s_g[i, 1] >= -xi - R * (1 - b_i_t[i, t]))"
   ]
  },
  {
   "cell_type": "markdown",
   "metadata": {
    "pycharm": {
     "name": "#%% md\n"
    }
   },
   "source": [
    "add safety constraints\n",
    "\\begin{aligned}\n",
    "   &\\forall i\\in [1, N], \\forall k \\in [t_0,T] \\\\\n",
    "   &x^i(k)-x^{j}(k) &\\geq d - R {c^{i,{j},1}(k)} \\\\\n",
    "   &x^{j}(k)-x^i(k) &\\geq d - R {c^{i,{j},2}(k)}\\\\\n",
    "   &y^i(k)-y^{j}(k) &\\geq d - R{c^{i,{j},3}(k)}\\\\\n",
    "   &y^{j}(k)-y^i(k) &\\geq d - R {c^{i,{j},4}(k)}\\\\\n",
    "   &\\sum_{z= 1}^{4}c^{i,{j},z}(k) &\\leq 3\n",
    "\\end{aligned}"
   ]
  },
  {
   "cell_type": "code",
   "execution_count": 8,
   "metadata": {
    "pycharm": {
     "name": "#%%\n"
    }
   },
   "outputs": [],
   "source": [
    "from itertools import combinations\n",
    "d = 1.5\n",
    "R = 1000000\n",
    "q = [(t, i) for i in range(4) for t in range(T_MAX)]\n",
    "q_t_k = model.addVars(q, vtype=GRB.BINARY)\n",
    "for t in range(0, T_MAX):\n",
    "    model.addConstr(x_i_t[0, t] - x_i_t[1, t] >= d - R * q_t_k[t, 0])\n",
    "    model.addConstr(x_i_t[1, t] - x_i_t[0, t] >= d - R * q_t_k[t, 1])\n",
    "    model.addConstr(y_i_t[0, t] - y_i_t[1, t] >= d - R * q_t_k[t, 2])\n",
    "    model.addConstr(y_i_t[1, t] - y_i_t[0, t] >= d - R * q_t_k[t, 3])\n",
    "    model.addConstr(quicksum(q_t_k[t, i] for i in range(4)) <= 3)"
   ]
  },
  {
   "cell_type": "markdown",
   "metadata": {
    "pycharm": {
     "name": "#%% md\n"
    }
   },
   "source": [
    "Add state transitions such that\n",
    "\\begin{aligned}\n",
    "   \\mathbf{x}_{t+1} = A \\mathbf{x}_t + B \\mathbf{u}_t\n",
    "\\end{aligned}\n",
    "Here, we need some extra variables, i.e., time interval $dt$ and mass of the quad $m$.\n",
    "For the sake of simplicity, Let's use same mass for all quads."
   ]
  },
  {
   "cell_type": "code",
   "execution_count": 9,
   "metadata": {
    "pycharm": {
     "name": "#%%\n"
    }
   },
   "outputs": [],
   "source": [
    "dt = 1\n",
    "m = 2.8\n",
    "A = np.zeros([4, 4])\n",
    "B = np.zeros([4, 2])\n",
    "\n",
    "A[0][0] = 1\n",
    "A[1][1] = 1\n",
    "A[2][2] = 1\n",
    "A[3][3] = 1\n",
    "A[0][2] = dt\n",
    "A[1][3] = dt\n",
    "\n",
    "B[0][0] = (0.5 / m) * dt ** 2\n",
    "B[1][1] = (0.5 / m) * dt ** 2\n",
    "B[2][0] =  dt / m\n",
    "B[3][1] = dt / m\n",
    "model.addConstr(T_t[T_MAX - 1] <= T_MAX)\n",
    "for i in range(N):\n",
    "    for t in range(T_MAX - 1):\n",
    "        X = np.array([x_i_t[i, t], y_i_t[i, t], Vx_i_t[i, t], Vy_i_t[i, t]])\n",
    "        U = np.array([Fx_i_t[i, t], Fy_i_t[i, t]])\n",
    "        X = np.matmul(A, X) + np.matmul(B, U)\n",
    "        model.addConstr(x_i_t[i, t + 1] == X[0])\n",
    "        model.addConstr(y_i_t[i, t + 1] == X[1])\n",
    "        model.addConstr(Vx_i_t[i, t + 1] == X[2])\n",
    "        model.addConstr(Vy_i_t[i, t + 1] == X[3])\n",
    "        model.addConstr(T_t[t + 1] == T_t[t] + dt)\n",
    "        model.addGenConstrAbs(Abs_Fx_i_t[i, t], Fx_i_t[i, t], \"abs_fx_%d_%d\" % (i, t))\n",
    "        model.addGenConstrAbs(Abs_Fy_i_t[i, t], Fy_i_t[i, t], \"abs_fy_%d_%d\" % (i, t))"
   ]
  },
  {
   "cell_type": "markdown",
   "metadata": {
    "pycharm": {
     "name": "#%% md\n"
    }
   },
   "source": [
    "Add initial positions of quads where initial velocities and forces are zeros"
   ]
  },
  {
   "cell_type": "code",
   "execution_count": 10,
   "metadata": {
    "pycharm": {
     "name": "#%%\n"
    }
   },
   "outputs": [],
   "source": [
    "start = [[0, 0], [10, 10]]\n",
    "for i in range(N):\n",
    "    model.addConstr(x_i_t[i, 0] ==  s_0[i, 0])\n",
    "    model.addConstr(y_i_t[i, 0] ==  s_0[i, 1])\n",
    "    model.addConstr(Vx_i_t[i, 0] == s_0[i, 2])\n",
    "    model.addConstr(Vy_i_t[i, 0] == s_0[i, 3])\n",
    "    model.addConstr(Fx_i_t[i, 0] == s_0[i, 4])\n",
    "    model.addConstr(Fy_i_t[i, 0] == s_0[i, 5])"
   ]
  },
  {
   "cell_type": "code",
   "execution_count": 11,
   "metadata": {
    "pycharm": {
     "name": "#%%\n"
    }
   },
   "outputs": [],
   "source": [
    "startState = [[0, 0, 0, 0, 0, 0, 0], [10, 10, 0, 0, 0, 0, 0]]\n",
    "goalState = [[10, 10, 0, 0, 0, 0, 0], [0, 0, 0, 0, 0, 0, 0]]\n",
    "for i, (s, g) in enumerate(zip(startState, goalState)):\n",
    "    for j in range(6):\n",
    "        model.addConstr(s_0[i, j] == s[j])\n",
    "        model.addConstr(s_g[i, j] == g[j])"
   ]
  },
  {
   "cell_type": "markdown",
   "metadata": {
    "pycharm": {
     "name": "#%% md\n"
    }
   },
   "source": [
    "Congratulations! We made it. Let's leave the rest of works to the optimizer"
   ]
  },
  {
   "cell_type": "code",
   "execution_count": 12,
   "metadata": {
    "pycharm": {
     "name": "#%%\n"
    }
   },
   "outputs": [
    {
     "name": "stdout",
     "output_type": "stream",
     "text": [
      "Gurobi Optimizer version 9.1.0 build v9.1.0rc0 (linux64)\n",
      "Thread count: 6 physical cores, 12 logical processors, using up to 12 threads\n",
      "Optimize a model with 3151 rows, 1174 columns and 7267 nonzeros\n",
      "Model fingerprint: 0xa81ca69d\n",
      "Model has 100 quadratic objective terms\n",
      "Model has 196 general constraints\n",
      "Variable types: 874 continuous, 300 integer (300 binary)\n",
      "Coefficient statistics:\n",
      "  Matrix range     [2e-01, 1e+06]\n",
      "  Objective range  [1e-02, 1e-02]\n",
      "  QObjective range [2e+00, 2e+00]\n",
      "  Bounds range     [6e-01, 1e+00]\n",
      "  RHS range        [6e-01, 1e+06]\n",
      "Presolve removed 517 rows and 248 columns\n",
      "Presolve time: 0.05s\n",
      "Presolved: 2696 rows, 988 columns, 10712 nonzeros\n",
      "Variable types: 809 continuous, 179 integer (179 binary)\n",
      "\n",
      "Root relaxation: objective 4.712441e+01, 998 iterations, 0.03 seconds\n",
      "\n",
      "    Nodes    |    Current Node    |     Objective Bounds      |     Work\n",
      " Expl Unexpl |  Obj  Depth IntInf | Incumbent    BestBd   Gap | It/Node Time\n",
      "\n",
      "     0     0   47.12441    0   12          -   47.12441      -     -    0s\n",
      "     0     0   51.41591    0   12          -   51.41591      -     -    0s\n",
      "     0     0   51.41591    0   12          -   51.41591      -     -    0s\n",
      "     0     0   53.14568    0   14          -   53.14568      -     -    0s\n",
      "     0     0   53.14568    0   13          -   53.14568      -     -    0s\n",
      "     0     0   53.14568    0   20          -   53.14568      -     -    0s\n",
      "     0     0   54.09369    0   18          -   54.09369      -     -    0s\n",
      "     0     0   54.09369    0   18          -   54.09369      -     -    0s\n",
      "     0     0   54.09369    0   18          -   54.09369      -     -    0s\n",
      "H    0     0                      54.1055610   54.09369  0.02%     -    0s\n",
      "\n",
      "Cutting planes:\n",
      "  Gomory: 8\n",
      "  Clique: 1\n",
      "  MIR: 8\n",
      "  RLT: 3\n",
      "\n",
      "Explored 1 nodes (1276 simplex iterations) in 0.49 seconds\n",
      "Thread count was 12 (of 12 available processors)\n",
      "\n",
      "Solution count 1: 54.1056 \n",
      "\n",
      "Optimal solution found (tolerance 1.00e-04)\n",
      "Best objective 5.410556095306e+01, best bound 5.410190294857e+01, gap 0.0068%\n"
     ]
    }
   ],
   "source": [
    "model.optimize()"
   ]
  },
  {
   "cell_type": "markdown",
   "metadata": {
    "pycharm": {
     "name": "#%% md\n"
    }
   },
   "source": [
    "Gurobi has already computed the solution for us. Now, let's decode the solution so that we can plot it."
   ]
  },
  {
   "cell_type": "code",
   "execution_count": 13,
   "metadata": {
    "pycharm": {
     "name": "#%%\n"
    }
   },
   "outputs": [],
   "source": [
    "import re\n",
    "from collections import defaultdict\n",
    "\n",
    "data = defaultdict(list)\n",
    "param = [\"x_\", \"y_\", \"Vx_\", \"Vy_\", \"Fx_\", \"Fy_\", \"b_\"]\n",
    "\n",
    "assert model.status == GRB.OPTIMAL, \"No optimal solution found :(\"\n",
    "\n",
    "for v in model.getVars():\n",
    "    for p in param:\n",
    "        for i in range(N):\n",
    "            key = \"{}{}\".format(p, i)\n",
    "            if re.search(key, v.varName):\n",
    "                data[key].append(v.x)\n",
    "    if re.search(\"t_\", v.varName):\n",
    "        data[\"time\"].append(v.x)"
   ]
  },
  {
   "cell_type": "markdown",
   "metadata": {
    "pycharm": {
     "name": "#%% md\n"
    }
   },
   "source": [
    "We will be using matplotlib package to visualize the solution."
   ]
  },
  {
   "cell_type": "code",
   "execution_count": 14,
   "metadata": {
    "pycharm": {
     "name": "#%%\n"
    }
   },
   "outputs": [
    {
     "data": {
      "text/plain": "<matplotlib.collections.PathCollection at 0x7f48d4d4d2b0>"
     },
     "execution_count": 14,
     "metadata": {},
     "output_type": "execute_result"
    },
    {
     "data": {
      "text/plain": "<Figure size 432x288 with 1 Axes>",
      "image/png": "[encoded data removed]"
     },
     "metadata": {
      "needs_background": "light"
     },
     "output_type": "display_data"
    }
   ],
   "source": [
    "%matplotlib inline\n",
    "import matplotlib.pyplot as plt\n",
    "data.keys()\n",
    "\n",
    "plt.cla()\n",
    "plt.scatter(data['x_0'], data['y_0'])\n",
    "plt.scatter(data['x_1'], data['y_1'])"
   ]
  },
  {
   "cell_type": "markdown",
   "metadata": {
    "pycharm": {
     "name": "#%% md\n"
    }
   },
   "source": [
    "Here you have it! An animation would have been nice, though!"
   ]
  }
 ],
 "metadata": {
  "kernelspec": {
   "display_name": "Python 3 (ipykernel)",
   "language": "python",
   "name": "python3"
  },
  "language_info": {
   "codemirror_mode": {
    "name": "ipython",
    "version": 3
   },
   "file_extension": ".py",
   "mimetype": "text/x-python",
   "name": "python",
   "nbconvert_exporter": "python",
   "pygments_lexer": "ipython3",
   "version": "3.8.10"
  }
 },
 "nbformat": 4,
 "nbformat_minor": 1
}